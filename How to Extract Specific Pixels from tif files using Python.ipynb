{
 "cells": [
  {
   "cell_type": "markdown",
   "id": "6498690d",
   "metadata": {},
   "source": [
    "## How to Extract Pixels from a TIF File using Python\n",
    "Example\n",
    "In this example, we'll work with US classified crop cultivation data.\n",
    "\n",
    "### Data Characteristics\n",
    "Resolution: 30 meters\n",
    "File Type: Classified raster file\n",
    "Source: USDA National Agricultural Statistics Service (NASS) Cropland Data Layer (CDL)\n",
    "Data link: USDA NASS Cropland Data Layer (https://www.nass.usda.gov/Research_and_Science/Cropland/Release/index.php)\n",
    "Description: An annual raster data layer providing crop-specific land cover information. It's produced using satellite imagery and extensive agricultural ground reference data.\n",
    "Each pixel in the raster is assigned a separate class. For this task, we'll extract all pixels representing vegetables and fruits into a single file. This means we'll exclude all pixels that do not correspond to vegetables or fruits.\n",
    "\n",
    "In the image, pixel values range from 0 to 255, where pixels representing vegetables and fruits include:\n",
    "[4,14,35,35,41,42,43,45,46,47,48,49,50,51,52,53,54,206,207,208,209,213,214,216,221,222,224,227,229,230,231,232,233,234,235,236,243,244,245,246,247,248,249,250] Pixel In our processed output tif file will only include this pixels as these are the vegetables and fruits"
   ]
  },
  {
   "cell_type": "code",
   "execution_count": null,
   "id": "568fa5d9",
   "metadata": {},
   "outputs": [],
   "source": [
    "import os\n",
    "import rasterio\n",
    "import numpy as np  # Import numpy\n",
    "\n",
    "def process_raster(file_path, dest_path, D):\n",
    "    nodata_value = 0\n",
    "    with rasterio.open(file_path) as src:\n",
    "        profile = src.profile\n",
    "\n",
    "        # Prepare output metadata, ensuring NoData value is correctly set\n",
    "        profile.update(nodata=nodata_value)\n",
    "\n",
    "        with rasterio.open(dest_path, 'w', **profile) as dest:\n",
    "            for ji, window in src.block_windows():\n",
    "                # Read data block\n",
    "                data = src.read(window=window)\n",
    "\n",
    "                # Apply a mask to exclude values not in list D\n",
    "                mask = ~np.isin(data, D)\n",
    "\n",
    "                # Set values outside the list D to the NoData value\n",
    "                data[mask] = nodata_value\n",
    "\n",
    "                # Write the modified block to the destination file\n",
    "                dest.write(data, window=window)\n",
    "\n",
    "def process_folders(root_dir, D):\n",
    "    for subdir, dirs, files in os.walk(root_dir):\n",
    "        for filename in files:\n",
    "            if filename.endswith(\".tif\"):  # Adjust extension as needed\n",
    "                file_path = os.path.join(subdir, filename)\n",
    "                dest_path = os.path.join(subdir, \"extracted_vegetable_fruits_\" + filename)  # Prefix 'extracted_'\n",
    "\n",
    "                # Ensure the destination directory exists, if not, create it.\n",
    "                if not os.path.exists(subdir):\n",
    "                    os.makedirs(subdir)\n",
    "\n",
    "                process_raster(file_path, dest_path, D)\n",
    "                print(f\"Processed and saved: {dest_path}\")\n",
    "\n",
    "# Specify the root directory where your folders are located\n",
    "root_dir = \"D:\\Crop_Land_Data\"\n",
    "If the D = [4,14,35,35,41,42,43,45,46,47,48,49,50,51,52,53,54,206,207,208,209,213,214,216,221,222,224,227,229,230,231,232,233,234,235,236,243,244,245,246,247,248,249,250]\n",
    "process_folders(root_dir, D)\n",
    "\n",
    "\n",
    "print(\"Raster processing for all folders is complete.\")\n",
    "## It will process all the images in the folder and image will only contain our desired pixel "
   ]
  },
  {
   "cell_type": "code",
   "execution_count": null,
   "id": "c97749fa",
   "metadata": {},
   "outputs": [],
   "source": [
    "# Thanks. "
   ]
  }
 ],
 "metadata": {
  "kernelspec": {
   "display_name": "Python 3",
   "language": "python",
   "name": "python3"
  },
  "language_info": {
   "codemirror_mode": {
    "name": "ipython",
    "version": 3
   },
   "file_extension": ".py",
   "mimetype": "text/x-python",
   "name": "python",
   "nbconvert_exporter": "python",
   "pygments_lexer": "ipython3",
   "version": "3.9.11"
  }
 },
 "nbformat": 4,
 "nbformat_minor": 5
}
