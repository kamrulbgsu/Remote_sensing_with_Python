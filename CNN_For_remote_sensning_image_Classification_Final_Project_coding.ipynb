{
  "nbformat": 4,
  "nbformat_minor": 0,
  "metadata": {
    "colab": {
      "name": "Final_Project_coding.ipynb",
      "provenance": []
    },
    "kernelspec": {
      "name": "python3",
      "display_name": "Python 3"
    },
    "language_info": {
      "name": "python"
    },
    "accelerator": "GPU"
  },
  "cells": [
    {
      "cell_type": "markdown",
      "source": [
        "### Final Project coding File\n",
        "### Course: CS 6010 (Data Science Programming)\n",
        "### Course Instructor: Dr. Qing Tian\n",
        "### Submitted By Md Kamrul Islam"
      ],
      "metadata": {
        "id": "m0qJIV4djmxQ"
      }
    },
    {
      "cell_type": "markdown",
      "source": [
        "### Topic:Land Cover and Land Use Classification Using Satellite Imagery and Convolutional Neural Networks"
      ],
      "metadata": {
        "id": "bwyfodsD_kOP"
      }
    },
    {
      "cell_type": "markdown",
      "source": [
        "## Importing libraries"
      ],
      "metadata": {
        "id": "ok1PmK6ljm03"
      }
    },
    {
      "cell_type": "code",
      "source": [
        "import os, glob\n",
        "import numpy as np\n",
        "! pip install pyrsgis\n",
        "from pyrsgis import raster"
      ],
      "metadata": {
        "colab": {
          "base_uri": "https://localhost:8080/"
        },
        "id": "FYO_Ajs3je71",
        "outputId": "b497e485-fc00-4dfe-d422-fd8e5a3644d2"
      },
      "execution_count": 2,
      "outputs": [
        {
          "output_type": "stream",
          "name": "stdout",
          "text": [
            "Requirement already satisfied: pyrsgis in /usr/local/lib/python3.7/dist-packages (0.4.1)\n"
          ]
        }
      ]
    },
    {
      "cell_type": "markdown",
      "source": [
        "Connecting with my google drive"
      ],
      "metadata": {
        "id": "n0Hjt8BpjzeJ"
      }
    },
    {
      "cell_type": "code",
      "source": [
        "from google.colab import drive\n",
        "drive.mount('/content/drive/')"
      ],
      "metadata": {
        "colab": {
          "base_uri": "https://localhost:8080/"
        },
        "id": "jqnJs0jblg1N",
        "outputId": "6cdb7094-242b-4543-f1ca-2a1e28c7e4a7"
      },
      "execution_count": 3,
      "outputs": [
        {
          "output_type": "stream",
          "name": "stdout",
          "text": [
            "Mounted at /content/drive/\n"
          ]
        }
      ]
    },
    {
      "cell_type": "markdown",
      "source": [
        "Specifiy my working directory"
      ],
      "metadata": {
        "id": "uZgT49haj8tv"
      }
    },
    {
      "cell_type": "code",
      "source": [
        "import os\n",
        "os.chdir('/content/drive/MyDrive/Colabfolder')"
      ],
      "metadata": {
        "id": "5-sHaXrmlolX"
      },
      "execution_count": 4,
      "outputs": []
    },
    {
      "cell_type": "markdown",
      "source": [
        "  Importing training image tif file and lable tif file\n",
        "####  Converting traing images into small chips "
      ],
      "metadata": {
        "id": "TvfIFp0OkNHv"
      }
    },
    {
      "cell_type": "code",
      "source": [
        "import numpy as np\n",
        "from pyrsgis import raster\n",
        "from pyrsgis.ml import imageChipsFromFile\n",
        "\n",
        "# define the file names\n",
        "#feature_file = r\"E:\\CNN_Builtup\\l5_Bangalore2011_raw.tif\"\n",
        "label_file = r\"/content/drive/MyDrive/Colabfolder/ctglvl.tif\"\n",
        "\n",
        "## ctg_training file means input training raw image, that has been converted into small chips\n",
        "from pyrsgis import raster, ml\n",
        "infile = r'/content/drive/MyDrive/Colabfolder/ctg_training.tif' \n",
        "ds, data_arr = raster.read(infile)\n",
        "features = ml.array_to_chips(data_arr, y_size=7, x_size=7)\n",
        "print('Shape of input array:', data_arr.shape)\n",
        "print('Shape of generated image chips:', features.shape)\n",
        "\n",
        "features = np.rollaxis(features, 3, 1)\n",
        "\n",
        "# read the label file and reshape it\n",
        "ds, labels = raster.read(label_file)\n",
        "labels = labels.flatten()\n",
        "\n",
        "# check for irrelevant values (we are interested in 3s and non-1s) because in label image our built area labeled as 3.\n",
        "labels = (labels == 3).astype(int)\n",
        "\n",
        "# print basic details\n",
        "print('Input features shape:', features.shape)\n",
        "print('\\nInput labels shape:', labels.shape)\n",
        "print('Values in input features, min: %d & max: %d' % (features.min(), features.max()))"
      ],
      "metadata": {
        "colab": {
          "base_uri": "https://localhost:8080/"
        },
        "id": "Nt7IQ3L3mEEK",
        "outputId": "007de8d6-022a-41a6-d946-6358bb5985c1"
      },
      "execution_count": 5,
      "outputs": [
        {
          "output_type": "stream",
          "name": "stdout",
          "text": [
            "Shape of input array: (7, 889, 491)\n",
            "Shape of generated image chips: (436499, 7, 7, 7)\n",
            "Input features shape: (436499, 7, 7, 7)\n",
            "\n",
            "Input labels shape: (436499,)\n",
            "Values in input features, min: -33 & max: 6568\n"
          ]
        }
      ]
    },
    {
      "cell_type": "code",
      "source": [
        "## Saving array for further use\n",
        "np.save('CNN_7by7_features.npy', features)\n",
        "np.save('CNN_7by7_labels.npy', labels)"
      ],
      "metadata": {
        "id": "rUJZxS84mU2U"
      },
      "execution_count": 6,
      "outputs": []
    },
    {
      "cell_type": "code",
      "source": [
        "features = np.load('CNN_7by7_features.npy')\n",
        "labels = np.load('CNN_7by7_labels.npy')\n",
        "\n",
        "# Separate and balance the classes\n",
        "built_features = features[labels==1]\n",
        "built_labels = labels[labels==1]\n",
        "\n",
        "unbuilt_features = features[labels==0]\n",
        "unbuilt_labels = labels[labels==0]\n",
        "\n",
        "print('Number of records in each class:')\n",
        "print('Built: %d, Unbuilt: %d' % (built_labels.shape[0], unbuilt_labels.shape[0]))"
      ],
      "metadata": {
        "colab": {
          "base_uri": "https://localhost:8080/"
        },
        "id": "X_--1v_dmzHv",
        "outputId": "7885f956-37a6-41fb-d2c6-e82cdd0daef0"
      },
      "execution_count": 7,
      "outputs": [
        {
          "output_type": "stream",
          "name": "stdout",
          "text": [
            "Number of records in each class:\n",
            "Built: 105177, Unbuilt: 331322\n"
          ]
        }
      ]
    },
    {
      "cell_type": "code",
      "source": [
        "# Combine the balanced features\n",
        "features = np.concatenate((built_features, unbuilt_features), axis=0)\n",
        "labels = np.concatenate((built_labels, unbuilt_labels), axis=0)\n",
        "\n",
        "# Normalise the features( our maximum DN value is 6568), we can also use normalize function here.\n",
        "features = features / 6568\n",
        "print('New values in input features, min: %d & max: %d' % (features.min(), features.max()))"
      ],
      "metadata": {
        "colab": {
          "base_uri": "https://localhost:8080/"
        },
        "id": "evk4M5SPm5ix",
        "outputId": "36451c24-46de-4b09-9b7f-f574e9178664"
      },
      "execution_count": 8,
      "outputs": [
        {
          "output_type": "stream",
          "name": "stdout",
          "text": [
            "New values in input features, min: 0 & max: 1\n"
          ]
        }
      ]
    },
    {
      "cell_type": "markdown",
      "source": [
        "importing libraies for CNN mmodel"
      ],
      "metadata": {
        "id": "WW7ScAPZmU7A"
      }
    },
    {
      "cell_type": "code",
      "source": [
        "import random\n",
        "import tensorflow as tf\n",
        "import keras\n",
        "from tensorflow.keras.utils import to_categorical\n",
        "from tensorflow.keras.models import Sequential\n",
        "from tensorflow.keras.layers import Conv2D\n",
        "from tensorflow.keras.layers import MaxPooling2D\n",
        "from tensorflow.keras.layers import Dense\n",
        "from tensorflow.keras.layers import Flatten\n",
        "from tensorflow.keras.layers import Dropout, Activation"
      ],
      "metadata": {
        "id": "zqGhvrlxm_ba"
      },
      "execution_count": 9,
      "outputs": []
    },
    {
      "cell_type": "markdown",
      "source": [
        "### Defining lables, data set processing and train, test split"
      ],
      "metadata": {
        "id": "Bkz9m8wMmmuC"
      }
    },
    {
      "cell_type": "code",
      "source": [
        "\n",
        "# Define the function to split features and labels\n",
        "def train_test_split(features, labels, trainProp=0.6):\n",
        "    dataSize = features.shape[0]\n",
        "    sliceIndex = int(dataSize*trainProp)\n",
        "    randIndex = np.arange(dataSize)\n",
        "    random.shuffle(randIndex)\n",
        "    train_x = features[[randIndex[:sliceIndex]], :, :, :][0]\n",
        "    test_x = features[[randIndex[sliceIndex:]], :, :, :][0]\n",
        "    train_y = labels[randIndex[:sliceIndex]]\n",
        "    test_y = labels[randIndex[sliceIndex:]]\n",
        "    return(train_x, train_y, test_x, test_y)\n",
        "  \n",
        "# Call the function to split the data\n",
        "train_x, train_y, test_x, test_y = train_test_split(features, labels)\n",
        "\n",
        "train_x = tf.transpose(train_x, [0, 2, 3, 1])\n",
        "test_x = tf.transpose(test_x, [0, 2, 3, 1])\n",
        "\n",
        "print('Reshaped split features:', train_x.shape, test_x.shape)\n",
        "print('Split labels:', train_y.shape, test_y.shape)"
      ],
      "metadata": {
        "colab": {
          "base_uri": "https://localhost:8080/"
        },
        "id": "fmHj3UFinF0W",
        "outputId": "42041d45-0cb3-45fe-cff3-ba43ecab370c"
      },
      "execution_count": 10,
      "outputs": [
        {
          "output_type": "stream",
          "name": "stdout",
          "text": [
            "Reshaped split features: (261899, 7, 7, 7) (174600, 7, 7, 7)\n",
            "Split labels: (261899,) (174600,)\n"
          ]
        }
      ]
    },
    {
      "cell_type": "markdown",
      "source": [
        "## Defining model"
      ],
      "metadata": {
        "id": "93-3ooD2m6jr"
      }
    },
    {
      "cell_type": "code",
      "source": [
        "model = keras.Sequential()\n",
        "model.add(Conv2D(32, kernel_size=1, padding='valid', activation='relu', input_shape=(7, 7, 7)))\n",
        "model.add(Dropout(0.25))\n",
        "model.add(Conv2D(48, kernel_size=1, padding='valid', activation='relu'))\n",
        "model.add(Dropout(0.25))\n",
        "model.add(Flatten())\n",
        "model.add(Dense(64, activation='relu'))\n",
        "model.add(Dropout(0.5))\n",
        "model.add(Dense(2, activation='softmax'))\n",
        "model.summary()"
      ],
      "metadata": {
        "colab": {
          "base_uri": "https://localhost:8080/"
        },
        "id": "yDqeoZ2onJrQ",
        "outputId": "03bc7a77-0841-4e4d-cc53-a6f594826b51"
      },
      "execution_count": 12,
      "outputs": [
        {
          "output_type": "stream",
          "name": "stdout",
          "text": [
            "Model: \"sequential\"\n",
            "_________________________________________________________________\n",
            " Layer (type)                Output Shape              Param #   \n",
            "=================================================================\n",
            " conv2d (Conv2D)             (None, 7, 7, 32)          256       \n",
            "                                                                 \n",
            " dropout (Dropout)           (None, 7, 7, 32)          0         \n",
            "                                                                 \n",
            " conv2d_1 (Conv2D)           (None, 7, 7, 48)          1584      \n",
            "                                                                 \n",
            " dropout_1 (Dropout)         (None, 7, 7, 48)          0         \n",
            "                                                                 \n",
            " flatten (Flatten)           (None, 2352)              0         \n",
            "                                                                 \n",
            " dense (Dense)               (None, 64)                150592    \n",
            "                                                                 \n",
            " dropout_2 (Dropout)         (None, 64)                0         \n",
            "                                                                 \n",
            " dense_1 (Dense)             (None, 2)                 130       \n",
            "                                                                 \n",
            "=================================================================\n",
            "Total params: 152,562\n",
            "Trainable params: 152,562\n",
            "Non-trainable params: 0\n",
            "_________________________________________________________________\n"
          ]
        }
      ]
    },
    {
      "cell_type": "code",
      "source": [
        "# Compiling the model\n",
        "model.compile(loss='sparse_categorical_crossentropy', optimizer= 'rmsprop',metrics=['accuracy'])\n"
      ],
      "metadata": {
        "id": "Ns7LgDKonIS7"
      },
      "execution_count": 13,
      "outputs": []
    },
    {
      "cell_type": "code",
      "source": [
        "# Running model\n",
        "history = model.fit(train_x, train_y, epochs=20, batch_size=40, validation_split=0.2)"
      ],
      "metadata": {
        "colab": {
          "base_uri": "https://localhost:8080/"
        },
        "id": "zrLvYzIlnN9g",
        "outputId": "0b383d74-fe43-4282-a998-54034d435212"
      },
      "execution_count": 14,
      "outputs": [
        {
          "output_type": "stream",
          "name": "stdout",
          "text": [
            "Epoch 1/20\n",
            "5238/5238 [==============================] - 43s 6ms/step - loss: 0.1123 - accuracy: 0.9535 - val_loss: 0.1017 - val_accuracy: 0.9569\n",
            "Epoch 2/20\n",
            "5238/5238 [==============================] - 34s 7ms/step - loss: 0.1032 - accuracy: 0.9581 - val_loss: 0.0982 - val_accuracy: 0.9582\n",
            "Epoch 3/20\n",
            "5238/5238 [==============================] - 34s 7ms/step - loss: 0.1018 - accuracy: 0.9586 - val_loss: 0.1052 - val_accuracy: 0.9522\n",
            "Epoch 4/20\n",
            "5238/5238 [==============================] - 35s 7ms/step - loss: 0.1009 - accuracy: 0.9588 - val_loss: 0.0949 - val_accuracy: 0.9605\n",
            "Epoch 5/20\n",
            "5238/5238 [==============================] - 32s 6ms/step - loss: 0.1020 - accuracy: 0.9591 - val_loss: 0.0871 - val_accuracy: 0.9641\n",
            "Epoch 6/20\n",
            "5238/5238 [==============================] - 33s 6ms/step - loss: 0.1010 - accuracy: 0.9595 - val_loss: 0.0898 - val_accuracy: 0.9617\n",
            "Epoch 7/20\n",
            "5238/5238 [==============================] - 35s 7ms/step - loss: 0.1002 - accuracy: 0.9590 - val_loss: 0.0872 - val_accuracy: 0.9630\n",
            "Epoch 8/20\n",
            "5238/5238 [==============================] - 34s 7ms/step - loss: 0.0997 - accuracy: 0.9600 - val_loss: 0.1209 - val_accuracy: 0.9521\n",
            "Epoch 9/20\n",
            "5238/5238 [==============================] - 36s 7ms/step - loss: 0.0993 - accuracy: 0.9591 - val_loss: 0.0880 - val_accuracy: 0.9624\n",
            "Epoch 10/20\n",
            "5238/5238 [==============================] - 34s 6ms/step - loss: 0.0992 - accuracy: 0.9598 - val_loss: 0.0849 - val_accuracy: 0.9636\n",
            "Epoch 11/20\n",
            "5238/5238 [==============================] - 35s 7ms/step - loss: 0.0991 - accuracy: 0.9603 - val_loss: 0.0835 - val_accuracy: 0.9647\n",
            "Epoch 12/20\n",
            "5238/5238 [==============================] - 33s 6ms/step - loss: 0.0987 - accuracy: 0.9598 - val_loss: 0.1420 - val_accuracy: 0.9479\n",
            "Epoch 13/20\n",
            "5238/5238 [==============================] - 35s 7ms/step - loss: 0.0985 - accuracy: 0.9600 - val_loss: 0.1027 - val_accuracy: 0.9565\n",
            "Epoch 14/20\n",
            "5238/5238 [==============================] - 34s 7ms/step - loss: 0.0989 - accuracy: 0.9599 - val_loss: 0.0841 - val_accuracy: 0.9642\n",
            "Epoch 15/20\n",
            "5238/5238 [==============================] - 34s 7ms/step - loss: 0.0989 - accuracy: 0.9599 - val_loss: 0.0824 - val_accuracy: 0.9649\n",
            "Epoch 16/20\n",
            "5238/5238 [==============================] - 34s 7ms/step - loss: 0.0992 - accuracy: 0.9602 - val_loss: 0.1015 - val_accuracy: 0.9556\n",
            "Epoch 17/20\n",
            "5238/5238 [==============================] - 34s 7ms/step - loss: 0.1007 - accuracy: 0.9597 - val_loss: 0.0866 - val_accuracy: 0.9624\n",
            "Epoch 18/20\n",
            "5238/5238 [==============================] - 34s 7ms/step - loss: 0.1000 - accuracy: 0.9594 - val_loss: 0.0922 - val_accuracy: 0.9614\n",
            "Epoch 19/20\n",
            "5238/5238 [==============================] - 32s 6ms/step - loss: 0.1000 - accuracy: 0.9600 - val_loss: 0.0835 - val_accuracy: 0.9645\n",
            "Epoch 20/20\n",
            "5238/5238 [==============================] - 31s 6ms/step - loss: 0.0988 - accuracy: 0.9602 - val_loss: 0.0877 - val_accuracy: 0.9630\n"
          ]
        }
      ]
    },
    {
      "cell_type": "code",
      "source": [
        "### Ploting training and validation loss\n",
        "from matplotlib import pyplot as plt\n",
        "loss_train = history.history['loss']\n",
        "loss_val = history.history['val_loss']\n",
        "epochs = range(1,21)\n",
        "plt.plot(epochs, loss_train, 'g', label='Training loss')\n",
        "plt.plot(epochs, loss_val, 'b', label='validation loss')\n",
        "plt.title('Training and Validation loss')\n",
        "plt.xlabel('Epochs')\n",
        "plt.ylabel('Loss')\n",
        "plt.legend()\n",
        "plt.show()"
      ],
      "metadata": {
        "colab": {
          "base_uri": "https://localhost:8080/",
          "height": 295
        },
        "id": "4VKCsu-yqYct",
        "outputId": "f9cc5a7b-2c7b-483c-e589-d52ad00d387f"
      },
      "execution_count": 15,
      "outputs": [
        {
          "output_type": "display_data",
          "data": {
            "image/png": "[encoded data removed]",
            "text/plain": [
              "<Figure size 432x288 with 1 Axes>"
            ]
          },
          "metadata": {
            "needs_background": "light"
          }
        }
      ]
    },
    {
      "cell_type": "code",
      "source": [
        "## Evaluating model with test data for getting the accuracy\n",
        "model.evaluate(test_x, test_y)"
      ],
      "metadata": {
        "colab": {
          "base_uri": "https://localhost:8080/"
        },
        "id": "mWbBmzjuqrR2",
        "outputId": "ff6c47bc-f501-4c3f-cc08-b34a8d0337af"
      },
      "execution_count": 16,
      "outputs": [
        {
          "output_type": "stream",
          "name": "stdout",
          "text": [
            "5457/5457 [==============================] - 27s 5ms/step - loss: 0.0879 - accuracy: 0.9632\n"
          ]
        },
        {
          "output_type": "execute_result",
          "data": {
            "text/plain": [
              "[0.08792979270219803, 0.9632359743118286]"
            ]
          },
          "metadata": {},
          "execution_count": 16
        }
      ]
    },
    {
      "cell_type": "code",
      "source": [
        "from sklearn.metrics import confusion_matrix, precision_score, recall_score, f1_score\n",
        "\n",
        "# Predict for test data and find the model evaluation criteria\n",
        "yTestPredicted = model.predict(test_x)\n",
        "yTestPredicted = yTestPredicted[:,1]\n",
        "\n",
        "# Calculate and display the error metrics\n",
        "yTestPredicted = (yTestPredicted>0.5).astype(int)\n",
        "cMatrix = confusion_matrix(test_y, yTestPredicted)\n",
        "pScore = precision_score(test_y, yTestPredicted)\n",
        "rScore = recall_score(test_y, yTestPredicted)\n",
        "fscore = f1_score(test_y, yTestPredicted)\n",
        "\n",
        "print(\"Confusion matrix:\\n\", cMatrix)\n",
        "\n",
        "print(pScore, rScore, fscore)"
      ],
      "metadata": {
        "colab": {
          "base_uri": "https://localhost:8080/"
        },
        "id": "_JOhfZf6nQ3U",
        "outputId": "653021fa-ccf0-4372-a26d-2f8a43b9419e"
      },
      "execution_count": 17,
      "outputs": [
        {
          "output_type": "stream",
          "name": "stdout",
          "text": [
            "Confusion matrix:\n",
            " [[130726   1930]\n",
            " [  4489  37455]]\n",
            "0.9509965722990986 0.892976349418272 0.9210736637607742\n"
          ]
        }
      ]
    },
    {
      "cell_type": "markdown",
      "source": [
        "### Now we can predict and produce landuse and landcover image in tif format\n",
        "### This image are in Binary data, 1 indicates the buit area and 0 indicates Unbit area"
      ],
      "metadata": {
        "id": "6v_vpD8WsCKp"
      }
    },
    {
      "cell_type": "code",
      "source": [
        "## Frist pridiect the land use and land cover of 2021\n",
        "## Agin, we need to generate image chips from array, because we have to feed the input file as same format of model\n",
        "## this time we are generating image chips from array because we needed the datasource object (ds) to export the TIF file\n",
        "## And since we are reading the TIF file anyway, why not use the array directly\n",
        "\n",
        "from pyrsgis import raster, ml\n",
        "\n",
        "infile_new = r\"/content/drive/MyDrive/Colabfolder/raw_image_2021.tif\"\n",
        "ds, data_arr_new = raster.read(infile_new)\n",
        "new_features = ml.array_to_chips(data_arr_new, y_size=7, x_size=7)\n",
        "\n",
        "\n",
        "print('Shape of the new features', new_features.shape)\n",
        "\n",
        "# Predict new data and export the probability raster\n",
        "newPredicted = model.predict(new_features)\n",
        "#print(\"Shape of the predicted labels: \", newPredicted.shape)\n",
        "newPredicted = newPredicted[:,1]\n",
        "\n",
        "prediction = np.reshape(newPredicted, (ds.RasterYSize, ds.RasterXSize))\n",
        "\n",
        "outFile = 'ctg_classified_image_2021.tif'\n",
        "raster.export(prediction, ds, filename=outFile, dtype='float')"
      ],
      "metadata": {
        "colab": {
          "base_uri": "https://localhost:8080/"
        },
        "id": "3xa0bcWfnoCf",
        "outputId": "1144492a-ccb4-48a9-c5e4-ab580deaf67c"
      },
      "execution_count": 18,
      "outputs": [
        {
          "output_type": "stream",
          "name": "stdout",
          "text": [
            "Shape of the new features (436499, 7, 7, 7)\n"
          ]
        }
      ]
    },
    {
      "cell_type": "code",
      "source": [
        "### Land cover detection of 2014\n",
        "from pyrsgis import raster, ml\n",
        "\n",
        "infile_new = r\"/content/drive/MyDrive/Colabfolder/ctg_raw_2014.tif\"\n",
        "ds, data_arr_new = raster.read(infile_new)\n",
        "new_features_2014 = ml.array_to_chips(data_arr_new, y_size=7, x_size=7)\n",
        "\n",
        "\n",
        "print('Shape of the new features', new_features_2014.shape)\n",
        "\n",
        "# Predict new data and export the probability raster\n",
        "newPredicted = model.predict(new_features_2014)\n",
        "#print(\"Shape of the predicted labels: \", newPredicted.shape)\n",
        "newPredicted = newPredicted[:,1]\n",
        "\n",
        "prediction = np.reshape(newPredicted, (ds.RasterYSize, ds.RasterXSize))\n",
        "\n",
        "outFile = 'ctg_classified_2014.tif'\n",
        "raster.export(prediction, ds, filename=outFile, dtype='float')"
      ],
      "metadata": {
        "id": "1GHjldfJnvoG",
        "colab": {
          "base_uri": "https://localhost:8080/"
        },
        "outputId": "885347e4-1e10-45c5-d256-f61e8c1591fd"
      },
      "execution_count": 19,
      "outputs": [
        {
          "output_type": "stream",
          "name": "stdout",
          "text": [
            "Shape of the new features (436499, 7, 7, 7)\n"
          ]
        }
      ]
    },
    {
      "cell_type": "markdown",
      "source": [
        "These output image are in tiff format and are in gray output where there are two data value(1 & 0) in the image. One indicates the built area and zero indicates unbuilt area. This file can be open with and remote sensing or gis software and produec color map with neccessary legand, north arrow and scale."
      ],
      "metadata": {
        "id": "vZKQNxwnvjql"
      }
    },
    {
      "cell_type": "code",
      "source": [
        ""
      ],
      "metadata": {
        "id": "yeRk0iUxuFLO"
      },
      "execution_count": null,
      "outputs": []
    }
  ]
}