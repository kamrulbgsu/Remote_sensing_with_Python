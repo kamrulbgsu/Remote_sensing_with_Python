{
 "cells": [
  {
   "cell_type": "code",
   "execution_count": null,
   "id": "cc79304e",
   "metadata": {},
   "outputs": [],
   "source": [
    "## This is a sample code of 2017 HAB composite image creation to calculate Annual Weekly or Bi-Weekly MAX \n",
    "\n",
    "import os\n",
    "import numpy as np\n",
    "import rasterio\n",
    "\n",
    "# Define the root directory containing the raster datasets\n",
    "root_dir = \"H:\\\\ALS\\\\Cyano_Bacteria\\\\2017\"\n",
    "\n",
    "# Traverse through each subdirectory within the root directory\n",
    "for subdir, dirs, files in os.walk(root_dir):\n",
    "    image_list = []  # List to store raster data arrays\n",
    "    \n",
    "    # Loop through each file in the current subdirectory\n",
    "    for file in files:\n",
    "        # Identify raster files with the prefix 'extracted_' and '.tif' extension\n",
    "        if file.startswith(\"2017_\") and file.endswith((\".tif\", \".TIF\")):\n",
    "            file_path = os.path.join(subdir, file)\n",
    "            \n",
    "            # Open the raster file and read it as a masked array to handle no-data values\n",
    "            with rasterio.open(file_path) as src:\n",
    "                image_list.append(src.read(masked=True))\n",
    "    \n",
    "    # If images are found in the list, proceed to create a composite image\n",
    "    if image_list:\n",
    "        # Calculate the maximum value for each pixel across all images\n",
    "        composite_array = np.ma.max(np.ma.stack(image_list, axis=0), axis=0)\n",
    "        \n",
    "        # Retrieve metadata from the first raster file for use in the composite image\n",
    "        with rasterio.open(os.path.join(subdir, files[0])) as src:\n",
    "            meta = src.meta\n",
    "        \n",
    "        # Update the metadata to reflect the number of layers in the composite image\n",
    "        meta.update(count=composite_array.shape[0])\n",
    "        \n",
    "        # Define the output path and filename for the composite image\n",
    "        folder_name = os.path.basename(subdir)\n",
    "        composite_path = os.path.join(subdir, f\"{folder_name}_composite.tif\")\n",
    "        \n",
    "        # Save the composite image to the specified location\n",
    "        with rasterio.open(composite_path, 'w', **meta) as dst:\n",
    "            dst.write(composite_array)\n",
    "        \n",
    "        # Print confirmation that the composite image has been saved\n",
    "        print(f\"Composite image saved: {composite_path}\")\n"
   ]
  }
 ],
 "metadata": {
  "kernelspec": {
   "display_name": "Python 3",
   "language": "python",
   "name": "python3"
  },
  "language_info": {
   "codemirror_mode": {
    "name": "ipython",
    "version": 3
   },
   "file_extension": ".py",
   "mimetype": "text/x-python",
   "name": "python",
   "nbconvert_exporter": "python",
   "pygments_lexer": "ipython3",
   "version": "3.9.11"
  }
 },
 "nbformat": 4,
 "nbformat_minor": 5
}
